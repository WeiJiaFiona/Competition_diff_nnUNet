{
 "cells": [
  {
   "cell_type": "markdown",
   "metadata": {},
   "source": [
    "# 计算测试指标（Dice & HD）\n",
    "## Diff-nnUNet对20个内部测试集的预测结果\n",
    "- 修改label（去掉肝脏label）\n",
    "- 保留最大连通域\n",
    "- 计算Dice：赛方给的代码\n",
    "- 计算HD：赛方给的代码"
   ]
  },
  {
   "cell_type": "markdown",
   "metadata": {},
   "source": [
    "导入库"
   ]
  },
  {
   "cell_type": "code",
   "execution_count": 1,
   "metadata": {},
   "outputs": [],
   "source": [
    "import os\n",
    "import SimpleITK as sitk\n",
    "import numpy as np\n",
    "from medpy.metric import binary\n",
    "import glob\n",
    "import nibabel as nib"
   ]
  },
  {
   "cell_type": "markdown",
   "metadata": {},
   "source": [
    "保留最大连通域的函数"
   ]
  },
  {
   "cell_type": "code",
   "execution_count": 2,
   "metadata": {},
   "outputs": [],
   "source": [
    "def connected_domain(itk_mask):\n",
    "    \"\"\"\n",
    "    获取mask中最大连通域\n",
    "    :param  itk_mask: SimpleITK.Image\n",
    "    :return:最大连通域  res_itk\n",
    "    :return:连通域个数  num_connected_label\n",
    "    :return:每个连通域的体积  each_area\n",
    "    \"\"\"\n",
    "\n",
    "    cc_filter = sitk.ConnectedComponentImageFilter()\n",
    "    cc_filter.SetFullyConnected(True)\n",
    "    output_mask = cc_filter.Execute(itk_mask)\n",
    "\n",
    "    lss_filter = sitk.LabelShapeStatisticsImageFilter()\n",
    "    lss_filter.Execute(output_mask)\n",
    "\n",
    "    num_connected_label = cc_filter.GetObjectCount()  # 获取连通域个数\n",
    "\n",
    "    area_max_label = 0  # 最大的连通域的label\n",
    "    area_max = 0\n",
    "\n",
    "    each_area = [lss_filter.GetNumberOfPixels(i) for i in range(1, num_connected_label + 1)]\n",
    "    # 连通域label从1开始，0表示背景\n",
    "    for i in range(1, num_connected_label + 1):\n",
    "        area = lss_filter.GetNumberOfPixels(i)\n",
    "\n",
    "          # 根据label获取连通域面积\n",
    "        if area > area_max:\n",
    "            area_max_label = i\n",
    "            area_max = area\n",
    "    \n",
    "    np_output_mask = sitk.GetArrayFromImage(output_mask)\n",
    "  \n",
    "    res_mask = np.zeros_like(np_output_mask)\n",
    "    res_mask[np_output_mask == area_max_label] = 1\n",
    "\n",
    "    res_itk = sitk.GetImageFromArray(res_mask)\n",
    "    res_itk.SetOrigin(itk_mask.GetOrigin())\n",
    "    res_itk.SetSpacing(itk_mask.GetSpacing())\n",
    "    res_itk.SetDirection(itk_mask.GetDirection())\n",
    "\n",
    "    return  num_connected_label, res_itk"
   ]
  },
  {
   "cell_type": "markdown",
   "metadata": {},
   "source": [
    "计算dice的函数"
   ]
  },
  {
   "cell_type": "code",
   "execution_count": 3,
   "metadata": {},
   "outputs": [],
   "source": [
    "def cal_dice(seg, gt, classes=2, background_id=0):\n",
    "    channel_dice = []\n",
    "    for i in range(classes):\n",
    "        if i == background_id:\n",
    "            continue\n",
    "        cond = i ** 2\n",
    "        # 计算相交部分\n",
    "        inter = len(np.where(seg * gt == cond)[0])\n",
    "        total_pix = len(np.where(seg == i)[0]) + len(np.where(gt == i)[0])\n",
    "        if total_pix == 0:\n",
    "            dice = 0\n",
    "        else:\n",
    "            dice = (2 * inter) / total_pix\n",
    "        channel_dice.append(dice)\n",
    "    return np.array(channel_dice)"
   ]
  },
  {
   "cell_type": "markdown",
   "metadata": {},
   "source": [
    "计算测试集DSC和HD的函数"
   ]
  },
  {
   "cell_type": "code",
   "execution_count": 4,
   "metadata": {},
   "outputs": [],
   "source": [
    "def cal_DSC_HD(pre_path,GT_path):\n",
    "    \n",
    "    name_list = os.listdir(pre_path)\n",
    "    Dice={}\n",
    "    HD={}\n",
    "    sum_result_dc = np.zeros((1,1)) \n",
    "    sum_result_HD=0\n",
    "    \n",
    "    for name in name_list:\n",
    "        print(name)\n",
    "\n",
    "        prediction_path = os.path.join(pre_path , name)\n",
    "        gt_path = os.path.join(GT_path , name)\n",
    "        _, save_biggest_img= connected_domain(sitk.Cast(sitk.ReadImage(prediction_path), sitk.sitkInt32))\n",
    "        print(\"     get biggest connected_domain\")\n",
    "\n",
    "        predict = sitk.GetArrayFromImage(save_biggest_img)\n",
    "        target = sitk.GetArrayFromImage(sitk.ReadImage(gt_path))\n",
    "\n",
    "        each_dice = cal_dice(predict, target, classes=2, background_id=0)\n",
    "        sum_result_dc += each_dice\n",
    "        Dice[name[0:3]] = [round(i,4) for i in each_dice]\n",
    "        print(\"     DSC done\")\n",
    "\n",
    "        try:\n",
    "            tmp = binary.hd95(target, predict)\n",
    "            sum_result_HD += tmp \n",
    "            HD[name[0:3]] = round(tmp,4) \n",
    "        except:\n",
    "            HD[name[0:3]] = 0\n",
    "            continue\n",
    "        print(\"     HD done\")\n",
    "        print()\n",
    "    \n",
    "    avg_result_HD = sum_result_HD / len(name_list)\n",
    "    avg_result_dice = sum_result_dc / len(name_list)\n",
    "\n",
    "    var_HD = np.var(list(HD.values()))\n",
    "    var_DSC = np.var(list(Dice.values()))\n",
    "\n",
    "    return avg_result_dice, avg_result_HD, Dice, HD, var_HD, var_DSC"
   ]
  },
  {
   "cell_type": "markdown",
   "metadata": {},
   "source": [
    "创建文件夹"
   ]
  },
  {
   "cell_type": "code",
   "execution_count": 5,
   "metadata": {},
   "outputs": [],
   "source": [
    "def ensure_folder_exists(folder_path):\n",
    "    # 检查文件夹路径是否存在\n",
    "    if not os.path.exists(folder_path):\n",
    "        # 如果不存在，则创建文件夹\n",
    "        os.makedirs(folder_path)\n",
    "        print(f\"文件夹{folder_path}已创建。\")\n",
    "    else:\n",
    "        print(f\"文件夹{folder_path}已存在。\")"
   ]
  },
  {
   "cell_type": "markdown",
   "metadata": {},
   "source": [
    "修改 label"
   ]
  },
  {
   "cell_type": "code",
   "execution_count": 8,
   "metadata": {},
   "outputs": [
    {
     "name": "stdout",
     "output_type": "stream",
     "text": [
      "文件夹/root/wjz_diff/test_case/predict_processed已创建。\n",
      "文件夹/root/wjz_diff/test_case/GT_processed已创建。\n"
     ]
    }
   ],
   "source": [
    "def process_and_save_nii_files(source_folder, target_folder):\n",
    "    nii_files = glob.glob(os.path.join(source_folder, \"*.nii.gz\"))\n",
    "\n",
    "    for file_path in nii_files:\n",
    "        nii_data = nib.load(file_path)\n",
    "        data = nii_data.get_fdata()\n",
    "\n",
    "        # 将数值1置零，将数值2置一\n",
    "        data[data == 1] = 0\n",
    "        data[data == 2] = 1\n",
    "\n",
    "        # 创建新的NIfTI图像对象\n",
    "        new_nii = nib.Nifti1Image(data, affine=nii_data.affine, header=nii_data.header)\n",
    "\n",
    "        # 构建目标文件路径\n",
    "        target_file_path = os.path.join(target_folder, os.path.basename(file_path))\n",
    "\n",
    "        # 保存处理后的文件\n",
    "        nib.save(new_nii, target_file_path)\n",
    "        # print(f\"Processed file saved to {target_file_path}\")\n",
    "\n",
    "ori_pre_path = \"/root/wjz_diff/test_case/predict\"\n",
    "pre_path = \"/root/wjz_diff/test_case/predict_processed\"\n",
    "ensure_folder_exists(pre_path)\n",
    "process_and_save_nii_files(ori_pre_path, pre_path)\n",
    "\n",
    "ori_GT_path = \"/root/wjz_diff/test_case/GT\"\n",
    "GT_path = \"/root/wjz_diff/test_case/GT_processed\"\n",
    "ensure_folder_exists(GT_path)\n",
    "process_and_save_nii_files(ori_GT_path, GT_path)"
   ]
  },
  {
   "cell_type": "markdown",
   "metadata": {},
   "source": [
    "计算指标"
   ]
  },
  {
   "cell_type": "code",
   "execution_count": 6,
   "metadata": {},
   "outputs": [
    {
     "name": "stdout",
     "output_type": "stream",
     "text": [
      "212.nii.gz\n",
      "     get biggest connected_domain\n",
      "     DSC done\n",
      "     HD done\n",
      "\n",
      "039.nii.gz\n",
      "     get biggest connected_domain\n",
      "     DSC done\n",
      "     HD done\n",
      "\n",
      "055.nii.gz\n",
      "     get biggest connected_domain\n",
      "     DSC done\n",
      "     HD done\n",
      "\n",
      "265.nii.gz\n",
      "     get biggest connected_domain\n",
      "     DSC done\n",
      "     HD done\n",
      "\n",
      "030.nii.gz\n",
      "     get biggest connected_domain\n",
      "     DSC done\n",
      "     HD done\n",
      "\n",
      "103.nii.gz\n",
      "     get biggest connected_domain\n",
      "     DSC done\n",
      "     HD done\n",
      "\n",
      "029.nii.gz\n",
      "     get biggest connected_domain\n",
      "     DSC done\n",
      "     HD done\n",
      "\n",
      "072.nii.gz\n",
      "     get biggest connected_domain\n",
      "     DSC done\n",
      "     HD done\n",
      "\n",
      "176.nii.gz\n",
      "     get biggest connected_domain\n",
      "     DSC done\n",
      "     HD done\n",
      "\n",
      "238.nii.gz\n",
      "     get biggest connected_domain\n",
      "     DSC done\n",
      "     HD done\n",
      "\n",
      "234.nii.gz\n",
      "     get biggest connected_domain\n",
      "     DSC done\n",
      "     HD done\n",
      "\n",
      "177.nii.gz\n",
      "     get biggest connected_domain\n",
      "     DSC done\n",
      "     HD done\n",
      "\n",
      "215.nii.gz\n",
      "     get biggest connected_domain\n",
      "     DSC done\n",
      "     HD done\n",
      "\n",
      "028.nii.gz\n",
      "     get biggest connected_domain\n",
      "     DSC done\n",
      "     HD done\n",
      "\n",
      "203.nii.gz\n",
      "     get biggest connected_domain\n",
      "     DSC done\n",
      "     HD done\n",
      "\n",
      "042.nii.gz\n",
      "     get biggest connected_domain\n",
      "     DSC done\n",
      "     HD done\n",
      "\n",
      "014.nii.gz\n",
      "     get biggest connected_domain\n",
      "     DSC done\n",
      "     HD done\n",
      "\n",
      "063.nii.gz\n",
      "     get biggest connected_domain\n",
      "     DSC done\n",
      "     HD done\n",
      "\n",
      "125.nii.gz\n",
      "     get biggest connected_domain\n",
      "     DSC done\n",
      "     HD done\n",
      "\n",
      "207.nii.gz\n",
      "     get biggest connected_domain\n",
      "     DSC done\n",
      "     HD done\n",
      "\n"
     ]
    }
   ],
   "source": [
    "pre_path = \"/root/wjz_diff/test_case/predict_processed\"\n",
    "GT_path = \"/root/wjz_diff/test_case/GT_processed\"\n",
    "avg_result_dice, avg_result_HD, Dice, HD, var_HD, var_DSC = cal_DSC_HD(pre_path, GT_path)"
   ]
  },
  {
   "cell_type": "code",
   "execution_count": 7,
   "metadata": {},
   "outputs": [
    {
     "name": "stdout",
     "output_type": "stream",
     "text": [
      "指标:  DSC为 [[0.78857059]] ± 0.0512 HD为 15 ± 796.0245\n",
      "每个测试集的DSC为 {'212': [0.9422], '039': [0.7895], '055': [0.8723], '265': [0.9485], '030': [0.85], '103': [0.866], '029': [0.8871], '072': [0.9113], '176': [0.7692], '238': [0.9518], '234': [0.4657], '177': [0.8294], '215': [0.9446], '028': [0.0], '203': [0.6688], '042': [0.4888], '014': [0.9092], '063': [0.8915], '125': [0.8506], '207': [0.935]}\n",
      "每个测试集的HD为 {'212': 7.0, '039': 6.1644, '055': 2.2361, '265': 4.1231, '030': 3.4641, '103': 8.8318, '029': 1.0, '072': 1.7321, '176': 7.6158, '238': 4.0, '234': 96.1439, '177': 9.8995, '215': 5.3852, '028': 101.4776, '203': 10.247, '042': 6.7601, '014': 2.0, '063': 4.0, '125': 7.0711, '207': 2.4495}\n"
     ]
    }
   ],
   "source": [
    "print(\"指标: \", \"DSC为\", avg_result_dice, \"±\", round(var_DSC,4), \"HD为\", round(avg_result_HD), \"±\", round(var_HD,4))\n",
    "print(\"每个测试集的DSC为\", Dice)\n",
    "print(\"每个测试集的HD为\", HD)"
   ]
  }
 ],
 "metadata": {
  "kernelspec": {
   "display_name": "Python 3",
   "language": "python",
   "name": "python3"
  },
  "language_info": {
   "codemirror_mode": {
    "name": "ipython",
    "version": 3
   },
   "file_extension": ".py",
   "mimetype": "text/x-python",
   "name": "python",
   "nbconvert_exporter": "python",
   "pygments_lexer": "ipython3",
   "version": "3.9.19"
  }
 },
 "nbformat": 4,
 "nbformat_minor": 2
}
