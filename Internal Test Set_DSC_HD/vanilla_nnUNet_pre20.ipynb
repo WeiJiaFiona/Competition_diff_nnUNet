{
 "cells": [
  {
   "cell_type": "markdown",
   "metadata": {},
   "source": [
    "### 计算测试指标（Dice & HD）\n",
    "#### 原始nnUNet对20个内部测试集的预测结果\n",
    "- 保留最大连通域\n",
    "- 计算Dice：赛方给的代码\n",
    "- 计算HD：赛方给的代码"
   ]
  },
  {
   "cell_type": "markdown",
   "metadata": {},
   "source": [
    "导入库"
   ]
  },
  {
   "cell_type": "code",
   "execution_count": 1,
   "metadata": {},
   "outputs": [],
   "source": [
    "import os\n",
    "import SimpleITK as sitk\n",
    "import numpy as np\n",
    "from medpy.metric import binary\n",
    "import glob\n",
    "import nibabel as nib"
   ]
  },
  {
   "cell_type": "markdown",
   "metadata": {},
   "source": [
    "保留最大连通域的函数"
   ]
  },
  {
   "cell_type": "code",
   "execution_count": 2,
   "metadata": {},
   "outputs": [],
   "source": [
    "def connected_domain(itk_mask):\n",
    "    \"\"\"\n",
    "    获取mask中最大连通域\n",
    "    :param itk_mask: SimpleITK.Image\n",
    "    :return:最大连通域  res_itk\n",
    "    :return:连通域个数  num_connected_label\n",
    "    :return:每个连通域的体积  each_area\n",
    "    \"\"\"\n",
    "\n",
    "    cc_filter = sitk.ConnectedComponentImageFilter()\n",
    "    cc_filter.SetFullyConnected(True)\n",
    "    output_mask = cc_filter.Execute(itk_mask)\n",
    "\n",
    "    lss_filter = sitk.LabelShapeStatisticsImageFilter()\n",
    "    lss_filter.Execute(output_mask)\n",
    "\n",
    "    num_connected_label = cc_filter.GetObjectCount()  # 获取连通域个数\n",
    "\n",
    "    area_max_label = 0  # 最大的连通域的label\n",
    "    area_max = 0\n",
    "\n",
    "    each_area = [lss_filter.GetNumberOfPixels(i) for i in range(1, num_connected_label + 1)]\n",
    "    # 连通域label从1开始，0表示背景\n",
    "    for i in range(1, num_connected_label + 1):\n",
    "        area = lss_filter.GetNumberOfPixels(i)\n",
    "\n",
    "          # 根据label获取连通域面积\n",
    "        if area > area_max:\n",
    "            area_max_label = i\n",
    "            area_max = area\n",
    "\n",
    "    np_output_mask = sitk.GetArrayFromImage(output_mask)\n",
    "  \n",
    "    res_mask = np.zeros_like(np_output_mask)\n",
    "    res_mask[np_output_mask == area_max_label] = 1\n",
    "\n",
    "    res_itk = sitk.GetImageFromArray(res_mask)\n",
    "    res_itk.SetOrigin(itk_mask.GetOrigin())\n",
    "    res_itk.SetSpacing(itk_mask.GetSpacing())\n",
    "    res_itk.SetDirection(itk_mask.GetDirection())\n",
    "\n",
    "    return  num_connected_label,res_itk"
   ]
  },
  {
   "cell_type": "markdown",
   "metadata": {},
   "source": [
    "计算dice的函数"
   ]
  },
  {
   "cell_type": "code",
   "execution_count": 3,
   "metadata": {},
   "outputs": [],
   "source": [
    "def cal_dice(seg, gt, classes=2, background_id=0):\n",
    "    channel_dice = []\n",
    "    for i in range(classes):\n",
    "        if i == background_id:\n",
    "            continue\n",
    "        cond = i ** 2\n",
    "        # 计算相交部分\n",
    "        inter = len(np.where(seg * gt == cond)[0])\n",
    "        total_pix = len(np.where(seg == i)[0]) + len(np.where(gt == i)[0])\n",
    "        if total_pix == 0:\n",
    "            dice = 0\n",
    "        else:\n",
    "            dice = (2 * inter) / total_pix\n",
    "        channel_dice.append(dice)\n",
    "\n",
    "    return np.array(channel_dice)"
   ]
  },
  {
   "cell_type": "markdown",
   "metadata": {},
   "source": [
    "计算测试集DSC和HD的函数"
   ]
  },
  {
   "cell_type": "code",
   "execution_count": 4,
   "metadata": {},
   "outputs": [],
   "source": [
    "def cal_DSC_HD(pre_path,GT_path):\n",
    "        \n",
    "    name_list = os.listdir(pre_path)\n",
    "    Dice={}\n",
    "    HD={}\n",
    "    sum_result_dc = np.zeros((1,1)) \n",
    "    sum_result_HD=0\n",
    "    \n",
    "    for name in name_list:\n",
    "        print(name)\n",
    "\n",
    "        prediction_path = os.path.join(pre_path , name)\n",
    "        gt_path = os.path.join(GT_path , name)\n",
    "        _, save_biggest_img= connected_domain(sitk.Cast(sitk.ReadImage(prediction_path), sitk.sitkInt32))\n",
    "        print(\"     get biggest connected_domain\")\n",
    "\n",
    "        predict = sitk.GetArrayFromImage(save_biggest_img)\n",
    "        target = sitk.GetArrayFromImage(sitk.ReadImage(gt_path))\n",
    "\n",
    "        each_dice = cal_dice(predict, target, classes=2, background_id=0)\n",
    "        sum_result_dc += each_dice\n",
    "        Dice[name[0:3]] = [round(i,4) for i in each_dice]\n",
    "        print(\"     DSC done\")\n",
    "\n",
    "        try:\n",
    "            tmp = binary.hd95(target, predict)\n",
    "            sum_result_HD += tmp \n",
    "            HD[name[0:3]] = round(tmp,4) \n",
    "        except:\n",
    "            HD[name[0:3]] = 0\n",
    "            continue\n",
    "        print(\"     HD done\")\n",
    "        print()\n",
    "\n",
    "    avg_result_HD = sum_result_HD / len(name_list)\n",
    "    avg_result_dice = sum_result_dc / len(name_list)\n",
    "\n",
    "    var_HD = np.var(list(HD.values()))\n",
    "    var_DSC = np.var(list(Dice.values()))\n",
    "\n",
    "    return avg_result_dice, avg_result_HD, Dice, HD, var_HD, var_DSC"
   ]
  },
  {
   "cell_type": "markdown",
   "metadata": {},
   "source": [
    "计算指标"
   ]
  },
  {
   "cell_type": "code",
   "execution_count": 5,
   "metadata": {},
   "outputs": [
    {
     "name": "stdout",
     "output_type": "stream",
     "text": [
      "103.nii.gz\n",
      "     get biggest connected_domain\n",
      "     DSC done\n",
      "     HD done\n",
      "\n",
      "030.nii.gz\n",
      "     get biggest connected_domain\n",
      "     DSC done\n",
      "     HD done\n",
      "\n",
      "176.nii.gz\n",
      "     get biggest connected_domain\n",
      "     DSC done\n",
      "     HD done\n",
      "\n",
      "238.nii.gz\n",
      "     get biggest connected_domain\n",
      "     DSC done\n",
      "     HD done\n",
      "\n",
      "072.nii.gz\n",
      "     get biggest connected_domain\n",
      "     DSC done\n",
      "     HD done\n",
      "\n",
      "029.nii.gz\n",
      "     get biggest connected_domain\n",
      "     DSC done\n",
      "     HD done\n",
      "\n",
      "055.nii.gz\n",
      "     get biggest connected_domain\n",
      "     DSC done\n",
      "     HD done\n",
      "\n",
      "265.nii.gz\n",
      "     get biggest connected_domain\n",
      "     DSC done\n",
      "     HD done\n",
      "\n",
      "212.nii.gz\n",
      "     get biggest connected_domain\n",
      "     DSC done\n",
      "     HD done\n",
      "\n",
      "039.nii.gz\n",
      "     get biggest connected_domain\n",
      "     DSC done\n",
      "     HD done\n",
      "\n",
      "063.nii.gz\n",
      "     get biggest connected_domain\n",
      "     DSC done\n",
      "     HD done\n",
      "\n",
      "042.nii.gz\n",
      "     get biggest connected_domain\n",
      "     DSC done\n",
      "     HD done\n",
      "\n",
      "014.nii.gz\n",
      "     get biggest connected_domain\n",
      "     DSC done\n",
      "     HD done\n",
      "\n",
      "207.nii.gz\n",
      "     get biggest connected_domain\n",
      "     DSC done\n",
      "     HD done\n",
      "\n",
      "125.nii.gz\n",
      "     get biggest connected_domain\n",
      "     DSC done\n",
      "     HD done\n",
      "\n",
      "028.nii.gz\n",
      "     get biggest connected_domain\n",
      "     DSC done\n",
      "     HD done\n",
      "\n",
      "215.nii.gz\n",
      "     get biggest connected_domain\n",
      "     DSC done\n",
      "     HD done\n",
      "\n",
      "203.nii.gz\n",
      "     get biggest connected_domain\n",
      "     DSC done\n",
      "     HD done\n",
      "\n",
      "234.nii.gz\n",
      "     get biggest connected_domain\n",
      "     DSC done\n",
      "     HD done\n",
      "\n",
      "177.nii.gz\n",
      "     get biggest connected_domain\n",
      "     DSC done\n",
      "     HD done\n",
      "\n"
     ]
    }
   ],
   "source": [
    "pre_path = \"/root/wjz_diff/test_case/raw_pre20\"\n",
    "GT_path = \"/root/wjz_diff/test_case/GT_raw\"\n",
    "avg_result_dice, avg_result_HD, Dice, HD, var_HD, var_DSC = cal_DSC_HD(pre_path, GT_path)"
   ]
  },
  {
   "cell_type": "code",
   "execution_count": 6,
   "metadata": {},
   "outputs": [
    {
     "name": "stdout",
     "output_type": "stream",
     "text": [
      "指标:  DSC为 [[0.7309063]] ± 0.0967 HD为 49 ± 14071.7262\n",
      "每个测试集的DSC为 {'103': [0.8503], '030': [0.7176], '176': [0.0042], '238': [0.9633], '072': [0.905], '029': [0.8952], '055': [0.8752], '265': [0.9587], '212': [0.9468], '039': [0.5085], '063': [0.8846], '042': [0.0004], '014': [0.9265], '207': [0.9279], '125': [0.1937], '028': [0.4652], '215': [0.9508], '203': [0.8924], '234': [0.8584], '177': [0.8932]}\n",
      "每个测试集的HD为 {'103': 10.8628, '030': 16.4012, '176': 355.1535, '238': 3.3166, '072': 1.4142, '029': 1.0, '055': 2.0, '265': 4.0, '212': 6.4807, '039': 75.012, '063': 5.9161, '042': 443.2878, '014': 2.0, '207': 3.0, '125': 39.2301, '028': 4.1231, '215': 4.2426, '203': 2.2361, '234': 2.0, '177': 8.1854}\n"
     ]
    }
   ],
   "source": [
    "print(\"指标: \", \"DSC为\", avg_result_dice, \"±\", round(var_DSC,4), \"HD为\", round(avg_result_HD), \"±\", round(var_HD,4))\n",
    "print(\"每个测试集的DSC为\", Dice)\n",
    "print(\"每个测试集的HD为\", HD)"
   ]
  }
 ],
 "metadata": {
  "kernelspec": {
   "display_name": "Python 3",
   "language": "python",
   "name": "python3"
  },
  "language_info": {
   "codemirror_mode": {
    "name": "ipython",
    "version": 3
   },
   "file_extension": ".py",
   "mimetype": "text/x-python",
   "name": "python",
   "nbconvert_exporter": "python",
   "pygments_lexer": "ipython3",
   "version": "3.9.19"
  }
 },
 "nbformat": 4,
 "nbformat_minor": 2
}
